{
 "cells": [
  {
   "cell_type": "code",
   "execution_count": 73,
   "metadata": {},
   "outputs": [],
   "source": [
    "import pandas as pd \n",
    "import numpy as np \n",
    "from tensorflow import keras \n",
    "import tensorflow as tf \n",
    "from tensorflow.keras import regularizers\n",
    "import tensorboard\n",
    "tensorboard.__version__\n",
    "from sklearn.metrics import r2_score\n",
    "import pydot\n",
    "from tensorflow.keras.layers import Activation\n",
    "import threading\n",
    "import time \n",
    "import matplotlib\n",
    "import matplotlib.pyplot as plt\n",
    "import ipywidgets as widgets "
   ]
  },
  {
   "cell_type": "code",
   "execution_count": 2,
   "metadata": {},
   "outputs": [],
   "source": [
    "load_model = keras.models.load_model('dnn_model')"
   ]
  },
  {
   "cell_type": "code",
   "execution_count": 3,
   "metadata": {},
   "outputs": [
    {
     "name": "stdout",
     "output_type": "stream",
     "text": [
      "Model: \"functional_3\"\n",
      "__________________________________________________________________________________________________\n",
      "Layer (type)                    Output Shape         Param #     Connected to                     \n",
      "==================================================================================================\n",
      "fb_content (InputLayer)         [(None, 21)]         0                                            \n",
      "__________________________________________________________________________________________________\n",
      "dense_4 (Dense)                 (None, 10)           220         fb_content[0][0]                 \n",
      "__________________________________________________________________________________________________\n",
      "sub_output_layer (Dense)        (None, 5)            55          dense_4[0][0]                    \n",
      "__________________________________________________________________________________________________\n",
      "input_2 (InputLayer)            [(None, 68)]         0                                            \n",
      "__________________________________________________________________________________________________\n",
      "concatenate_1 (Concatenate)     (None, 73)           0           sub_output_layer[0][0]           \n",
      "                                                                 input_2[0][0]                    \n",
      "__________________________________________________________________________________________________\n",
      "dense_5 (Dense)                 (None, 20)           1480        concatenate_1[0][0]              \n",
      "__________________________________________________________________________________________________\n",
      "hidden1_Dropout (Dropout)       (None, 20)           0           dense_5[0][0]                    \n",
      "__________________________________________________________________________________________________\n",
      "dense_6 (Dense)                 (None, 20)           420         hidden1_Dropout[0][0]            \n",
      "__________________________________________________________________________________________________\n",
      "hidden2_Dropout (Dropout)       (None, 20)           0           dense_6[0][0]                    \n",
      "__________________________________________________________________________________________________\n",
      "dense_7 (Dense)                 (None, 15)           315         hidden2_Dropout[0][0]            \n",
      "==================================================================================================\n",
      "Total params: 2,490\n",
      "Trainable params: 2,490\n",
      "Non-trainable params: 0\n",
      "__________________________________________________________________________________________________\n"
     ]
    }
   ],
   "source": [
    "load_model.summary()"
   ]
  },
  {
   "cell_type": "code",
   "execution_count": 5,
   "metadata": {},
   "outputs": [],
   "source": [
    "All_IVs_plus_demo = pd.read_csv('./Input/All_IVs_plus_demo.csv')\n",
    "fb_content = pd.read_csv('./Input/fb_content.csv')\n",
    "input_val = [fb_content, All_IVs_plus_demo]"
   ]
  },
  {
   "cell_type": "code",
   "execution_count": 6,
   "metadata": {},
   "outputs": [
    {
     "data": {
      "text/plain": [
       "array([[ 2.7876627e+00,  3.3201928e+00,  3.3699367e+00, ...,\n",
       "        -3.5971972e-01,  3.0843124e-01, -3.7221372e-01],\n",
       "       [ 3.5521746e+00,  3.1949201e+00,  2.7334812e+00, ...,\n",
       "        -6.1359566e-01, -1.4765692e-01, -5.8981210e-01],\n",
       "       [ 3.1688254e+00,  3.7506142e+00,  3.5142295e+00, ...,\n",
       "        -7.3601820e-02,  2.6774293e-01,  1.2824144e-03],\n",
       "       ...,\n",
       "       [ 2.4981484e+00,  3.8661790e+00,  4.1916828e+00, ...,\n",
       "         2.0919405e-02, -2.3782817e-01,  6.9370516e-02],\n",
       "       [ 1.7490789e+00,  2.9838350e+00,  4.0500298e+00, ...,\n",
       "        -3.9113376e-01,  6.9385707e-01, -5.9170365e-01],\n",
       "       [ 1.9595852e+00,  3.3694990e+00,  3.8667428e+00, ...,\n",
       "        -2.3819155e-01,  3.9684537e-01, -1.8983176e-01]], dtype=float32)"
      ]
     },
     "execution_count": 6,
     "metadata": {},
     "output_type": "execute_result"
    }
   ],
   "source": [
    "load_model.predict(input_val)"
   ]
  },
  {
   "cell_type": "code",
   "execution_count": 12,
   "metadata": {},
   "outputs": [],
   "source": [
    "# Load Sub_Model\n",
    "sub_model = tf.keras.Model(load_model.get_layer(index = 0).output, load_model.get_layer(index = 2).output)\n",
    "# inp = sub_model.predict(fb_content)\n",
    "# sub_layer = tf.keras.layers.Softmax()\n",
    "# sub_layer_result = pd.DataFrame(sub_layer(inp).numpy())\n",
    "# today = time.strftime('%y-%m-%d-%H-%M-%S')\n",
    "# sub_layer_file_name = today + '_sub_model_ouput.csv'\n",
    "# sub_layer_result.to_csv(sub_layer_file_name)"
   ]
  },
  {
   "cell_type": "code",
   "execution_count": 76,
   "metadata": {},
   "outputs": [
    {
     "data": {
      "image/png": "[encoded data removed]",
      "text/plain": [
       "<Figure size 432x288 with 1 Axes>"
      ]
     },
     "metadata": {
      "needs_background": "light"
     },
     "output_type": "display_data"
    }
   ],
   "source": [
    "for i in range(0,1):\n",
    "    sub_input = fb_content[i:i+1]\n",
    "    inp = sub_model.predict(sub_input)\n",
    "    sub_layer = tf.keras.layers.Softmax()\n",
    "    s = sub_layer(inp).numpy()\n",
    "    plt.ylabel('Probability')\n",
    "    plt.xlim(0,5)\n",
    "    plt.plot(s[0])"
   ]
  }
 ],
 "metadata": {
  "kernelspec": {
   "display_name": "Python 3",
   "language": "python",
   "name": "python3"
  },
  "language_info": {
   "codemirror_mode": {
    "name": "ipython",
    "version": 3
   },
   "file_extension": ".py",
   "mimetype": "text/x-python",
   "name": "python",
   "nbconvert_exporter": "python",
   "pygments_lexer": "ipython3",
   "version": "3.8.6"
  }
 },
 "nbformat": 4,
 "nbformat_minor": 4
}
