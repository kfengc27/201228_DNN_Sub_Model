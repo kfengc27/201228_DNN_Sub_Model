{
 "cells": [
  {
   "cell_type": "code",
   "execution_count": 2,
   "metadata": {},
   "outputs": [],
   "source": [
    "import pandas as pd \n",
    "from factor_analyzer import FactorAnalyzer \n",
    "import matplotlib.pyplot as plt "
   ]
  },
  {
   "cell_type": "code",
   "execution_count": 4,
   "metadata": {},
   "outputs": [
    {
     "data": {
      "text/html": [
       "<div>\n",
       "<style scoped>\n",
       "    .dataframe tbody tr th:only-of-type {\n",
       "        vertical-align: middle;\n",
       "    }\n",
       "\n",
       "    .dataframe tbody tr th {\n",
       "        vertical-align: top;\n",
       "    }\n",
       "\n",
       "    .dataframe thead th {\n",
       "        text-align: right;\n",
       "    }\n",
       "</style>\n",
       "<table border=\"1\" class=\"dataframe\">\n",
       "  <thead>\n",
       "    <tr style=\"text-align: right;\">\n",
       "      <th></th>\n",
       "      <th>Q1.2</th>\n",
       "      <th>Q1.3</th>\n",
       "      <th>Q1.4</th>\n",
       "      <th>Q1.5</th>\n",
       "      <th>Q1.6</th>\n",
       "      <th>Q1.8_1</th>\n",
       "      <th>Q1.8_2</th>\n",
       "      <th>Q16.2_1</th>\n",
       "      <th>Q16.2_2</th>\n",
       "      <th>Q16.2_3</th>\n",
       "      <th>...</th>\n",
       "      <th>Q16.8_5</th>\n",
       "      <th>Q16.9_1</th>\n",
       "      <th>Q16.9_2</th>\n",
       "      <th>Q16.9_3</th>\n",
       "      <th>Q16.9_4</th>\n",
       "      <th>Q16.9_5</th>\n",
       "      <th>Q16.9_6</th>\n",
       "      <th>Q16.9_7</th>\n",
       "      <th>Q16.9_8</th>\n",
       "      <th>Q16.9_9</th>\n",
       "    </tr>\n",
       "  </thead>\n",
       "  <tbody>\n",
       "    <tr>\n",
       "      <th>0</th>\n",
       "      <td>8</td>\n",
       "      <td>4</td>\n",
       "      <td>5</td>\n",
       "      <td>4</td>\n",
       "      <td>0.025444</td>\n",
       "      <td>-0.111071</td>\n",
       "      <td>0.140173</td>\n",
       "      <td>0</td>\n",
       "      <td>1</td>\n",
       "      <td>0</td>\n",
       "      <td>...</td>\n",
       "      <td>0</td>\n",
       "      <td>0</td>\n",
       "      <td>0</td>\n",
       "      <td>0</td>\n",
       "      <td>0</td>\n",
       "      <td>1</td>\n",
       "      <td>0</td>\n",
       "      <td>0</td>\n",
       "      <td>0</td>\n",
       "      <td>0</td>\n",
       "    </tr>\n",
       "    <tr>\n",
       "      <th>1</th>\n",
       "      <td>2</td>\n",
       "      <td>4</td>\n",
       "      <td>6</td>\n",
       "      <td>2</td>\n",
       "      <td>2.167080</td>\n",
       "      <td>0.809640</td>\n",
       "      <td>-0.743238</td>\n",
       "      <td>0</td>\n",
       "      <td>0</td>\n",
       "      <td>0</td>\n",
       "      <td>...</td>\n",
       "      <td>0</td>\n",
       "      <td>0</td>\n",
       "      <td>0</td>\n",
       "      <td>0</td>\n",
       "      <td>1</td>\n",
       "      <td>0</td>\n",
       "      <td>0</td>\n",
       "      <td>0</td>\n",
       "      <td>0</td>\n",
       "      <td>0</td>\n",
       "    </tr>\n",
       "    <tr>\n",
       "      <th>2</th>\n",
       "      <td>11</td>\n",
       "      <td>3</td>\n",
       "      <td>5</td>\n",
       "      <td>7</td>\n",
       "      <td>0.505265</td>\n",
       "      <td>-0.550006</td>\n",
       "      <td>-0.087120</td>\n",
       "      <td>0</td>\n",
       "      <td>0</td>\n",
       "      <td>1</td>\n",
       "      <td>...</td>\n",
       "      <td>0</td>\n",
       "      <td>0</td>\n",
       "      <td>1</td>\n",
       "      <td>0</td>\n",
       "      <td>0</td>\n",
       "      <td>0</td>\n",
       "      <td>0</td>\n",
       "      <td>0</td>\n",
       "      <td>0</td>\n",
       "      <td>0</td>\n",
       "    </tr>\n",
       "    <tr>\n",
       "      <th>3</th>\n",
       "      <td>4</td>\n",
       "      <td>2</td>\n",
       "      <td>4</td>\n",
       "      <td>7</td>\n",
       "      <td>0.505265</td>\n",
       "      <td>0.194861</td>\n",
       "      <td>-0.546448</td>\n",
       "      <td>0</td>\n",
       "      <td>0</td>\n",
       "      <td>0</td>\n",
       "      <td>...</td>\n",
       "      <td>0</td>\n",
       "      <td>0</td>\n",
       "      <td>0</td>\n",
       "      <td>0</td>\n",
       "      <td>0</td>\n",
       "      <td>1</td>\n",
       "      <td>0</td>\n",
       "      <td>0</td>\n",
       "      <td>0</td>\n",
       "      <td>0</td>\n",
       "    </tr>\n",
       "    <tr>\n",
       "      <th>4</th>\n",
       "      <td>5</td>\n",
       "      <td>3</td>\n",
       "      <td>4</td>\n",
       "      <td>7</td>\n",
       "      <td>-1.045374</td>\n",
       "      <td>-0.510345</td>\n",
       "      <td>0.424771</td>\n",
       "      <td>0</td>\n",
       "      <td>1</td>\n",
       "      <td>0</td>\n",
       "      <td>...</td>\n",
       "      <td>0</td>\n",
       "      <td>0</td>\n",
       "      <td>1</td>\n",
       "      <td>0</td>\n",
       "      <td>0</td>\n",
       "      <td>0</td>\n",
       "      <td>0</td>\n",
       "      <td>0</td>\n",
       "      <td>0</td>\n",
       "      <td>0</td>\n",
       "    </tr>\n",
       "  </tbody>\n",
       "</table>\n",
       "<p>5 rows × 68 columns</p>\n",
       "</div>"
      ],
      "text/plain": [
       "   Q1.2  Q1.3  Q1.4  Q1.5      Q1.6    Q1.8_1    Q1.8_2  Q16.2_1  Q16.2_2  \\\n",
       "0     8     4     5     4  0.025444 -0.111071  0.140173        0        1   \n",
       "1     2     4     6     2  2.167080  0.809640 -0.743238        0        0   \n",
       "2    11     3     5     7  0.505265 -0.550006 -0.087120        0        0   \n",
       "3     4     2     4     7  0.505265  0.194861 -0.546448        0        0   \n",
       "4     5     3     4     7 -1.045374 -0.510345  0.424771        0        1   \n",
       "\n",
       "   Q16.2_3  ...  Q16.8_5  Q16.9_1  Q16.9_2  Q16.9_3  Q16.9_4  Q16.9_5  \\\n",
       "0        0  ...        0        0        0        0        0        1   \n",
       "1        0  ...        0        0        0        0        1        0   \n",
       "2        1  ...        0        0        1        0        0        0   \n",
       "3        0  ...        0        0        0        0        0        1   \n",
       "4        0  ...        0        0        1        0        0        0   \n",
       "\n",
       "   Q16.9_6  Q16.9_7  Q16.9_8  Q16.9_9  \n",
       "0        0        0        0        0  \n",
       "1        0        0        0        0  \n",
       "2        0        0        0        0  \n",
       "3        0        0        0        0  \n",
       "4        0        0        0        0  \n",
       "\n",
       "[5 rows x 68 columns]"
      ]
     },
     "execution_count": 4,
     "metadata": {},
     "output_type": "execute_result"
    }
   ],
   "source": [
    "df = pd.read_csv('../Input/All_IVs_plus_demo.csv')\n",
    "df.head()"
   ]
  },
  {
   "cell_type": "code",
   "execution_count": 14,
   "metadata": {},
   "outputs": [
    {
     "data": {
      "text/html": [
       "<div>\n",
       "<style scoped>\n",
       "    .dataframe tbody tr th:only-of-type {\n",
       "        vertical-align: middle;\n",
       "    }\n",
       "\n",
       "    .dataframe tbody tr th {\n",
       "        vertical-align: top;\n",
       "    }\n",
       "\n",
       "    .dataframe thead th {\n",
       "        text-align: right;\n",
       "    }\n",
       "</style>\n",
       "<table border=\"1\" class=\"dataframe\">\n",
       "  <thead>\n",
       "    <tr style=\"text-align: right;\">\n",
       "      <th></th>\n",
       "      <th>Q1.8_1</th>\n",
       "      <th>Q1.8_2</th>\n",
       "      <th>Q1.8_3</th>\n",
       "      <th>Q1.8_4</th>\n",
       "      <th>Q1.8_5</th>\n",
       "      <th>Q1.8_6</th>\n",
       "    </tr>\n",
       "  </thead>\n",
       "  <tbody>\n",
       "    <tr>\n",
       "      <th>0</th>\n",
       "      <td>4</td>\n",
       "      <td>4</td>\n",
       "      <td>3</td>\n",
       "      <td>4</td>\n",
       "      <td>2</td>\n",
       "      <td>2</td>\n",
       "    </tr>\n",
       "    <tr>\n",
       "      <th>1</th>\n",
       "      <td>3</td>\n",
       "      <td>3</td>\n",
       "      <td>3</td>\n",
       "      <td>3</td>\n",
       "      <td>3</td>\n",
       "      <td>3</td>\n",
       "    </tr>\n",
       "    <tr>\n",
       "      <th>2</th>\n",
       "      <td>4</td>\n",
       "      <td>3</td>\n",
       "      <td>3</td>\n",
       "      <td>3</td>\n",
       "      <td>2</td>\n",
       "      <td>1</td>\n",
       "    </tr>\n",
       "    <tr>\n",
       "      <th>3</th>\n",
       "      <td>3</td>\n",
       "      <td>3</td>\n",
       "      <td>3</td>\n",
       "      <td>3</td>\n",
       "      <td>3</td>\n",
       "      <td>1</td>\n",
       "    </tr>\n",
       "    <tr>\n",
       "      <th>4</th>\n",
       "      <td>5</td>\n",
       "      <td>3</td>\n",
       "      <td>4</td>\n",
       "      <td>2</td>\n",
       "      <td>2</td>\n",
       "      <td>2</td>\n",
       "    </tr>\n",
       "    <tr>\n",
       "      <th>...</th>\n",
       "      <td>...</td>\n",
       "      <td>...</td>\n",
       "      <td>...</td>\n",
       "      <td>...</td>\n",
       "      <td>...</td>\n",
       "      <td>...</td>\n",
       "    </tr>\n",
       "    <tr>\n",
       "      <th>592</th>\n",
       "      <td>1</td>\n",
       "      <td>4</td>\n",
       "      <td>5</td>\n",
       "      <td>5</td>\n",
       "      <td>3</td>\n",
       "      <td>3</td>\n",
       "    </tr>\n",
       "    <tr>\n",
       "      <th>593</th>\n",
       "      <td>3</td>\n",
       "      <td>3</td>\n",
       "      <td>3</td>\n",
       "      <td>3</td>\n",
       "      <td>3</td>\n",
       "      <td>3</td>\n",
       "    </tr>\n",
       "    <tr>\n",
       "      <th>594</th>\n",
       "      <td>2</td>\n",
       "      <td>4</td>\n",
       "      <td>5</td>\n",
       "      <td>4</td>\n",
       "      <td>2</td>\n",
       "      <td>2</td>\n",
       "    </tr>\n",
       "    <tr>\n",
       "      <th>595</th>\n",
       "      <td>3</td>\n",
       "      <td>3</td>\n",
       "      <td>1</td>\n",
       "      <td>1</td>\n",
       "      <td>1</td>\n",
       "      <td>2</td>\n",
       "    </tr>\n",
       "    <tr>\n",
       "      <th>596</th>\n",
       "      <td>5</td>\n",
       "      <td>2</td>\n",
       "      <td>2</td>\n",
       "      <td>2</td>\n",
       "      <td>2</td>\n",
       "      <td>2</td>\n",
       "    </tr>\n",
       "  </tbody>\n",
       "</table>\n",
       "<p>597 rows × 6 columns</p>\n",
       "</div>"
      ],
      "text/plain": [
       "     Q1.8_1  Q1.8_2  Q1.8_3  Q1.8_4  Q1.8_5  Q1.8_6\n",
       "0         4       4       3       4       2       2\n",
       "1         3       3       3       3       3       3\n",
       "2         4       3       3       3       2       1\n",
       "3         3       3       3       3       3       1\n",
       "4         5       3       4       2       2       2\n",
       "..      ...     ...     ...     ...     ...     ...\n",
       "592       1       4       5       5       3       3\n",
       "593       3       3       3       3       3       3\n",
       "594       2       4       5       4       2       2\n",
       "595       3       3       1       1       1       2\n",
       "596       5       2       2       2       2       2\n",
       "\n",
       "[597 rows x 6 columns]"
      ]
     },
     "execution_count": 14,
     "metadata": {},
     "output_type": "execute_result"
    }
   ],
   "source": [
    "emotions = df.iloc[:,5:11]\n",
    "emotions"
   ]
  },
  {
   "cell_type": "code",
   "execution_count": 15,
   "metadata": {},
   "outputs": [
    {
     "name": "stdout",
     "output_type": "stream",
     "text": [
      "<class 'pandas.core.frame.DataFrame'>\n",
      "RangeIndex: 597 entries, 0 to 596\n",
      "Data columns (total 6 columns):\n",
      " #   Column  Non-Null Count  Dtype\n",
      "---  ------  --------------  -----\n",
      " 0   Q1.8_1  597 non-null    int64\n",
      " 1   Q1.8_2  597 non-null    int64\n",
      " 2   Q1.8_3  597 non-null    int64\n",
      " 3   Q1.8_4  597 non-null    int64\n",
      " 4   Q1.8_5  597 non-null    int64\n",
      " 5   Q1.8_6  597 non-null    int64\n",
      "dtypes: int64(6)\n",
      "memory usage: 28.1 KB\n"
     ]
    }
   ],
   "source": [
    "emotions.info()"
   ]
  },
  {
   "cell_type": "code",
   "execution_count": 26,
   "metadata": {},
   "outputs": [],
   "source": [
    "# Create a factor analyzer variable and perform factor analysis \n",
    "fa = FactorAnalyzer(n_factors = 2, rotation = 'varimax')"
   ]
  },
  {
   "cell_type": "code",
   "execution_count": 27,
   "metadata": {},
   "outputs": [
    {
     "data": {
      "text/plain": [
       "FactorAnalyzer(n_factors=2, rotation='varimax', rotation_kwargs={})"
      ]
     },
     "execution_count": 27,
     "metadata": {},
     "output_type": "execute_result"
    }
   ],
   "source": [
    "fa.fit(emotions)"
   ]
  },
  {
   "cell_type": "code",
   "execution_count": 28,
   "metadata": {},
   "outputs": [
    {
     "data": {
      "text/plain": [
       "array([[0.06397536, 0.53629002],\n",
       "       [0.35959077, 0.59595794],\n",
       "       [0.39549176, 0.71629207],\n",
       "       [0.56586203, 0.43096945],\n",
       "       [0.80797505, 0.20129729],\n",
       "       [0.66958325, 0.18341011]])"
      ]
     },
     "execution_count": 28,
     "metadata": {},
     "output_type": "execute_result"
    }
   ],
   "source": [
    "loadings = fa.loadings_\n",
    "loadings"
   ]
  },
  {
   "cell_type": "code",
   "execution_count": 29,
   "metadata": {},
   "outputs": [],
   "source": [
    "# Get the Eigenvector and EigenValues \n",
    "ev, v = fa.get_eigenvalues()"
   ]
  },
  {
   "cell_type": "code",
   "execution_count": 30,
   "metadata": {},
   "outputs": [],
   "source": [
    "# Do a scree plot\n",
    "xvals = range(1, emotions.shape[1]+1)"
   ]
  },
  {
   "cell_type": "code",
   "execution_count": 31,
   "metadata": {},
   "outputs": [
    {
     "data": {
      "image/png": "[encoded data removed]",
      "text/plain": [
       "<Figure size 432x288 with 1 Axes>"
      ]
     },
     "metadata": {
      "needs_background": "light"
     },
     "output_type": "display_data"
    }
   ],
   "source": [
    "plt.scatter(xvals, ev)\n",
    "plt.plot(xvals, ev)\n",
    "plt.title('Screeen Plot')\n",
    "plt.xlabel('Factor')\n",
    "plt.ylabel('Eigenvalue')\n",
    "plt.grid()\n",
    "plt.show()"
   ]
  },
  {
   "cell_type": "code",
   "execution_count": 32,
   "metadata": {},
   "outputs": [
    {
     "data": {
      "text/plain": [
       "array([0.29169983, 0.48447139, 0.66948807, 0.5059345 , 0.69334429,\n",
       "       0.481981  ])"
      ]
     },
     "execution_count": 32,
     "metadata": {},
     "output_type": "execute_result"
    }
   ],
   "source": [
    "fa.get_communalities()"
   ]
  },
  {
   "cell_type": "code",
   "execution_count": 33,
   "metadata": {},
   "outputs": [
    {
     "data": {
      "text/plain": [
       "(array([1.71117736, 1.41574172]),\n",
       " array([0.28519623, 0.23595695]),\n",
       " array([0.28519623, 0.52115318]))"
      ]
     },
     "execution_count": 33,
     "metadata": {},
     "output_type": "execute_result"
    }
   ],
   "source": [
    "var = fa.get_factor_variance()\n",
    "var"
   ]
  },
  {
   "cell_type": "code",
   "execution_count": 34,
   "metadata": {},
   "outputs": [
    {
     "data": {
      "text/html": [
       "<div>\n",
       "<style scoped>\n",
       "    .dataframe tbody tr th:only-of-type {\n",
       "        vertical-align: middle;\n",
       "    }\n",
       "\n",
       "    .dataframe tbody tr th {\n",
       "        vertical-align: top;\n",
       "    }\n",
       "\n",
       "    .dataframe thead th {\n",
       "        text-align: right;\n",
       "    }\n",
       "</style>\n",
       "<table border=\"1\" class=\"dataframe\">\n",
       "  <thead>\n",
       "    <tr style=\"text-align: right;\">\n",
       "      <th></th>\n",
       "      <th>Factor 1</th>\n",
       "      <th>Factor 2</th>\n",
       "    </tr>\n",
       "  </thead>\n",
       "  <tbody>\n",
       "    <tr>\n",
       "      <th>Q1.8_1</th>\n",
       "      <td>0.063975</td>\n",
       "      <td>0.536290</td>\n",
       "    </tr>\n",
       "    <tr>\n",
       "      <th>Q1.8_2</th>\n",
       "      <td>0.359591</td>\n",
       "      <td>0.595958</td>\n",
       "    </tr>\n",
       "    <tr>\n",
       "      <th>Q1.8_3</th>\n",
       "      <td>0.395492</td>\n",
       "      <td>0.716292</td>\n",
       "    </tr>\n",
       "    <tr>\n",
       "      <th>Q1.8_4</th>\n",
       "      <td>0.565862</td>\n",
       "      <td>0.430969</td>\n",
       "    </tr>\n",
       "    <tr>\n",
       "      <th>Q1.8_5</th>\n",
       "      <td>0.807975</td>\n",
       "      <td>0.201297</td>\n",
       "    </tr>\n",
       "    <tr>\n",
       "      <th>Q1.8_6</th>\n",
       "      <td>0.669583</td>\n",
       "      <td>0.183410</td>\n",
       "    </tr>\n",
       "  </tbody>\n",
       "</table>\n",
       "</div>"
      ],
      "text/plain": [
       "        Factor 1  Factor 2\n",
       "Q1.8_1  0.063975  0.536290\n",
       "Q1.8_2  0.359591  0.595958\n",
       "Q1.8_3  0.395492  0.716292\n",
       "Q1.8_4  0.565862  0.430969\n",
       "Q1.8_5  0.807975  0.201297\n",
       "Q1.8_6  0.669583  0.183410"
      ]
     },
     "execution_count": 34,
     "metadata": {},
     "output_type": "execute_result"
    }
   ],
   "source": [
    "loadings = pd.DataFrame(fa.loadings_, columns=['Factor 1', 'Factor 2'], index = belonging.columns)\n",
    "loadings"
   ]
  },
  {
   "cell_type": "code",
   "execution_count": 35,
   "metadata": {},
   "outputs": [
    {
     "data": {
      "text/plain": [
       "array([[-0.11107054,  0.14017262],\n",
       "       [ 0.80963962, -0.74323798],\n",
       "       [-0.55000557, -0.0871204 ],\n",
       "       ...,\n",
       "       [ 0.05119969,  0.54258691],\n",
       "       [-1.06620472, -1.27352948],\n",
       "       [-0.45529745, -0.71241015]])"
      ]
     },
     "execution_count": 35,
     "metadata": {},
     "output_type": "execute_result"
    }
   ],
   "source": [
    "fa.transform(belonging)"
   ]
  },
  {
   "cell_type": "code",
   "execution_count": 36,
   "metadata": {},
   "outputs": [
    {
     "data": {
      "text/html": [
       "<div>\n",
       "<style scoped>\n",
       "    .dataframe tbody tr th:only-of-type {\n",
       "        vertical-align: middle;\n",
       "    }\n",
       "\n",
       "    .dataframe tbody tr th {\n",
       "        vertical-align: top;\n",
       "    }\n",
       "\n",
       "    .dataframe thead th {\n",
       "        text-align: right;\n",
       "    }\n",
       "</style>\n",
       "<table border=\"1\" class=\"dataframe\">\n",
       "  <thead>\n",
       "    <tr style=\"text-align: right;\">\n",
       "      <th></th>\n",
       "      <th>0</th>\n",
       "      <th>1</th>\n",
       "    </tr>\n",
       "  </thead>\n",
       "  <tbody>\n",
       "    <tr>\n",
       "      <th>0</th>\n",
       "      <td>-0.111071</td>\n",
       "      <td>0.140173</td>\n",
       "    </tr>\n",
       "    <tr>\n",
       "      <th>1</th>\n",
       "      <td>0.809640</td>\n",
       "      <td>-0.743238</td>\n",
       "    </tr>\n",
       "    <tr>\n",
       "      <th>2</th>\n",
       "      <td>-0.550006</td>\n",
       "      <td>-0.087120</td>\n",
       "    </tr>\n",
       "    <tr>\n",
       "      <th>3</th>\n",
       "      <td>0.194861</td>\n",
       "      <td>-0.546448</td>\n",
       "    </tr>\n",
       "    <tr>\n",
       "      <th>4</th>\n",
       "      <td>-0.510345</td>\n",
       "      <td>0.424771</td>\n",
       "    </tr>\n",
       "    <tr>\n",
       "      <th>...</th>\n",
       "      <td>...</td>\n",
       "      <td>...</td>\n",
       "    </tr>\n",
       "    <tr>\n",
       "      <th>592</th>\n",
       "      <td>1.257001</td>\n",
       "      <td>0.066556</td>\n",
       "    </tr>\n",
       "    <tr>\n",
       "      <th>593</th>\n",
       "      <td>0.809640</td>\n",
       "      <td>-0.743238</td>\n",
       "    </tr>\n",
       "    <tr>\n",
       "      <th>594</th>\n",
       "      <td>0.051200</td>\n",
       "      <td>0.542587</td>\n",
       "    </tr>\n",
       "    <tr>\n",
       "      <th>595</th>\n",
       "      <td>-1.066205</td>\n",
       "      <td>-1.273529</td>\n",
       "    </tr>\n",
       "    <tr>\n",
       "      <th>596</th>\n",
       "      <td>-0.455297</td>\n",
       "      <td>-0.712410</td>\n",
       "    </tr>\n",
       "  </tbody>\n",
       "</table>\n",
       "<p>597 rows × 2 columns</p>\n",
       "</div>"
      ],
      "text/plain": [
       "            0         1\n",
       "0   -0.111071  0.140173\n",
       "1    0.809640 -0.743238\n",
       "2   -0.550006 -0.087120\n",
       "3    0.194861 -0.546448\n",
       "4   -0.510345  0.424771\n",
       "..        ...       ...\n",
       "592  1.257001  0.066556\n",
       "593  0.809640 -0.743238\n",
       "594  0.051200  0.542587\n",
       "595 -1.066205 -1.273529\n",
       "596 -0.455297 -0.712410\n",
       "\n",
       "[597 rows x 2 columns]"
      ]
     },
     "execution_count": 36,
     "metadata": {},
     "output_type": "execute_result"
    }
   ],
   "source": [
    "df = pd.DataFrame(fa.transform(emotions))\n",
    "df"
   ]
  },
  {
   "cell_type": "code",
   "execution_count": 37,
   "metadata": {},
   "outputs": [],
   "source": [
    "df.to_csv('emotions.csv')"
   ]
  }
 ],
 "metadata": {
  "kernelspec": {
   "display_name": "Python 3",
   "language": "python",
   "name": "python3"
  },
  "language_info": {
   "codemirror_mode": {
    "name": "ipython",
    "version": 3
   },
   "file_extension": ".py",
   "mimetype": "text/x-python",
   "name": "python",
   "nbconvert_exporter": "python",
   "pygments_lexer": "ipython3",
   "version": "3.8.6"
  }
 },
 "nbformat": 4,
 "nbformat_minor": 4
}
