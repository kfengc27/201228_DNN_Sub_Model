{
 "cells": [
  {
   "cell_type": "code",
   "execution_count": 2,
   "metadata": {},
   "outputs": [],
   "source": [
    "import ipywidgets as widgets\n",
    "import matplotlib\n",
    "import matplotlib.pyplot as plt\n",
    "from tensorflow import keras \n",
    "import pandas as pd \n",
    "from IPython.display import display, clear_output\n",
    "import time\n",
    "import tensorflow as tf \n",
    "import numpy as np"
   ]
  },
  {
   "cell_type": "code",
   "execution_count": 7,
   "metadata": {},
   "outputs": [
    {
     "data": {
      "application/vnd.jupyter.widget-view+json": {
       "model_id": "a0b3c544e26b437da5d195d5f8dc7df9",
       "version_major": 2,
       "version_minor": 0
      },
      "text/plain": [
       "HBox(children=(VBox(children=(IntSlider(value=1, description='Q9_1', max=5, min=1), IntSlider(value=1, descrip…"
      ]
     },
     "metadata": {},
     "output_type": "display_data"
    }
   ],
   "source": [
    "# load dnn model\n",
    "load_model = keras.models.load_model('dnn_model')\n",
    "sub_model = tf.keras.Model(load_model.get_layer(index = 0).output, load_model.get_layer(index = 2).output)\n",
    "global sub_model\n",
    "\n",
    "# read the nature of each question\n",
    "fb_content = pd.read_csv('./Input/fb_content.csv')\n",
    "\n",
    "def static_vars(**kwargs):\n",
    "    def decorate(func):\n",
    "        for k in kwargs:\n",
    "            setattr(func, k, kwargs[k])\n",
    "        return func\n",
    "    return decorate\n",
    "\n",
    "factor_0_list = []\n",
    "factor_1_list = []\n",
    "factor_2_list = []\n",
    "factor_3_list = []\n",
    "factor_4_list = []\n",
    "global factor_0_list \n",
    "global factor_1_list \n",
    "global factor_2_list \n",
    "global factor_3_list \n",
    "global factor_4_list \n",
    "\n",
    "def f(a, b, c, d, e, f, g, h, i, j, k, l, m ,n,o,p,q,r,s,t,u):\n",
    "    sub_input = pd.DataFrame([a, b, c, d, e, f, g, h, i, j, k, l, m ,n,o,p,q,r,s,t,u]).transpose()\n",
    "    inp = sub_model.predict(sub_input)\n",
    "    sub_layer = tf.keras.layers.Softmax()\n",
    "    result = sub_layer(inp).numpy()\n",
    "    factor_0_list.append(result[0][0])\n",
    "    factor_1_list.append(result[0][1])\n",
    "    factor_2_list.append(result[0][2])\n",
    "    factor_3_list.append(result[0][3])\n",
    "    factor_4_list.append(result[0][4])\n",
    "    print('Status 0: {:.2%}'.format(result[0][0]))\n",
    "    print('Status 1: {:.2%}'.format(result[0][1]))\n",
    "    print('Status 2: {:.2%}'.format(result[0][2]))\n",
    "    print('Status 3: {:.2%}'.format(result[0][3]))\n",
    "    print('Status 4: {:.2%}'.format(result[0][4]))\n",
    "    plt.ylabel(\"Probability\")\n",
    "    plt.xlabel('Status Number')\n",
    "    plt.xlim(0, 5, 1)\n",
    "    plt.plot(result[0])\n",
    "    \n",
    "def get_widget():\n",
    "    q9_1 = widgets.IntSlider(min=1,max=5, step=1, description=\"Q9_1\")\n",
    "    q9_2 = widgets.IntSlider(min=1,max=5, step=1, description=\"Q9_2\")\n",
    "    q9_3 = widgets.IntSlider(min=1,max=5, step=1, description=\"Q9_3\")\n",
    "    q10_1 = widgets.IntSlider(min=1,max=5, step=1, description=\"Q10_1\")\n",
    "    q10_2 = widgets.IntSlider(min=1,max=5, step=1, description=\"Q10_2\")\n",
    "    q10_3 = widgets.IntSlider(min=1,max=5, step=1, description=\"Q10_3\")\n",
    "    q10_4 = widgets.IntSlider(min=1,max=5, step=1, description=\"Q10_4\")\n",
    "    q10_5 = widgets.IntSlider(min=1,max=5, step=1, description=\"Q10_5\")\n",
    "    q10_6 = widgets.IntSlider(min=1,max=5, step=1, description=\"Q10_6\")\n",
    "    q10_7 = widgets.IntSlider(min=1,max=5, step=1, description=\"Q10_7\")\n",
    "    q10_8 = widgets.IntSlider(min=1,max=5, step=1, description=\"Q10_8\")\n",
    "    q10_9 = widgets.IntSlider(min=1,max=5, step=1, description=\"Q10_9\")\n",
    "    q10_10 = widgets.IntSlider(min=1,max=5, step=1, description=\"Q10_10\")\n",
    "    q10_11 = widgets.IntSlider(min=1,max=5, step=1, description=\"Q10_11\")\n",
    "    q10_12 = widgets.IntSlider(min=1,max=5, step=1, description=\"Q10_12\")\n",
    "    q10_13 = widgets.IntSlider(min=1,max=5, step=1, description=\"Q10_13\")\n",
    "    q10_14 = widgets.IntSlider(min=1,max=5, step=1, description=\"Q10_14\")\n",
    "    q10_15 = widgets.IntSlider(min=1,max=5, step=1, description=\"Q10_15\")\n",
    "    q10_16 = widgets.IntSlider(min=1,max=5, step=1, description=\"Q10_16\")\n",
    "    q10_17 = widgets.IntSlider(min=1,max=5, step=1, description=\"Q10_17\")\n",
    "    q10_18 = widgets.IntSlider(min=1,max=5, step=1, description=\"Q10_18\")\n",
    "    ty = widgets.IntSlider(min=1,max=5, step=5, description=\"type\")\n",
    "    out = widgets.interactive_output(f, {'a':q9_1 ,'b':q9_2,'c':q9_3,'d':q10_1,'e':q10_2, 'f':q10_3, 'g':q10_4, 'h': q10_5, 'i':q10_6, 'j': q10_7, 'k':q10_8, 'l':q10_9, 'm':q10_10, 'n':q10_11, 'o': q10_12, 'p':q10_13, 'q':q10_14, 'r': q10_15, 's':q10_16,'t':q10_17, 'u':q10_18})   \n",
    "    Q9 = widgets.VBox([q9_1, q9_2, q9_3, q10_1, q10_2, q10_3, q10_4, q10_5, q10_6, q10_7, q10_8])\n",
    "    Q10 = widgets.VBox([q10_9, q10_10, q10_11, q10_12, q10_13, q10_14, q10_15, q10_16, q10_17, q10_18])\n",
    "    return [Q9, Q10, out]\n",
    "\n",
    "# Loading which participant's data into the dashboard \n",
    "# ParticipantID = 10 \n",
    "widget_list = []\n",
    "for item in get_widget():\n",
    "    widget_list.append(item)\n",
    "display(widgets.HBox(widget_list))\n"
   ]
  },
  {
   "cell_type": "code",
   "execution_count": null,
   "metadata": {},
   "outputs": [],
   "source": []
  }
 ],
 "metadata": {
  "kernelspec": {
   "display_name": "Python 3",
   "language": "python",
   "name": "python3"
  },
  "language_info": {
   "codemirror_mode": {
    "name": "ipython",
    "version": 3
   },
   "file_extension": ".py",
   "mimetype": "text/x-python",
   "name": "python",
   "nbconvert_exporter": "python",
   "pygments_lexer": "ipython3",
   "version": "3.8.6"
  }
 },
 "nbformat": 4,
 "nbformat_minor": 4
}
